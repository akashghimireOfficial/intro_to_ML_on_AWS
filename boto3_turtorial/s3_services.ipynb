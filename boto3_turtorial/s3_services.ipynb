{
 "cells": [
  {
   "cell_type": "code",
   "execution_count": 1,
   "metadata": {},
   "outputs": [],
   "source": [
    "import boto3\n",
    "from botocore.exceptions import ClientError\n",
    "import os \n",
    "os.chdir('../')\n"
   ]
  },
  {
   "cell_type": "code",
   "execution_count": 2,
   "metadata": {},
   "outputs": [],
   "source": [
    "from utils.load_session import load_session"
   ]
  },
  {
   "cell_type": "code",
   "execution_count": 3,
   "metadata": {},
   "outputs": [],
   "source": [
    "credential,session=load_session()"
   ]
  },
  {
   "cell_type": "markdown",
   "metadata": {},
   "source": [
    "# Amazon S3 (Simple Storage Service) and Buckets \n",
    "\n",
    "It is a scalable object storage service provided by AWS. This service can be used to store and retrive data from the web. \n",
    "\n",
    "`Buckets` is a Amazon S3 containers for storing objects(files). Each bucket is unique within a region, and globally. Bucket can store an unlimited number of objects. \n",
    "\n",
    "**Rules fore creating bucket name**\n",
    "- The bucket name can be between 3 and 63 characters long, and can contain only lower-case characters, numbers, periods, and dashes.\n",
    "\n",
    "- Each label in the bucket name must start with a lowercase letter or number.\n",
    "\n",
    "- The bucket name cannot contain underscores, end with a dash, have consecutive periods, or use dashes adjacent to periods.\n",
    "\n",
    "- The bucket name cannot be formatted as an IP address (198.51.100.24)."
   ]
  },
  {
   "cell_type": "code",
   "execution_count": 4,
   "metadata": {},
   "outputs": [],
   "source": [
    "### creating S3 client \n",
    "## client is an instant object of the API \n",
    "## here s3_client is an instant of S3 service API\n",
    "s3_client=session.client('s3')"
   ]
  },
  {
   "cell_type": "code",
   "execution_count": 26,
   "metadata": {},
   "outputs": [],
   "source": [
    "# We can also initiate s3 client as boto3.client() \n",
    "# s3_client=boto3.client('s3',\n",
    "#                        aws_access_key_id=credential['Access key ID'].item(),\n",
    "#                         aws_secret_access_key=credential['Secret access key'].item(),\n",
    "#                         region_name=credential['region'].item())"
   ]
  },
  {
   "cell_type": "code",
   "execution_count": 5,
   "metadata": {},
   "outputs": [
    {
     "name": "stdout",
     "output_type": "stream",
     "text": [
      "You already own this bucket.\n"
     ]
    }
   ],
   "source": [
    "## creating a new bucket\n",
    "\n",
    "# Create a new bucket\n",
    "bucket_name = 'akashghimireofficial'\n",
    "try:\n",
    "    response = s3_client.create_bucket(\n",
    "        Bucket=bucket_name,\n",
    "        CreateBucketConfiguration={\n",
    "            'LocationConstraint': credential['region'].item()  # Specify your region\n",
    "        }\n",
    "    )\n",
    "    print(\"Bucket created successfully\")\n",
    "except ClientError as e:\n",
    "    if e.response['Error']['Code'] == 'BucketAlreadyExists':\n",
    "        print(\"Bucket name is already taken. Please choose a different name.\")\n",
    "    elif e.response['Error']['Code'] == 'BucketAlreadyOwnedByYou':\n",
    "        print(\"You already own this bucket.\")\n",
    "    else:\n",
    "        print(f\"Error: {e}\")"
   ]
  },
  {
   "cell_type": "code",
   "execution_count": 6,
   "metadata": {},
   "outputs": [
    {
     "name": "stdout",
     "output_type": "stream",
     "text": [
      "Existing buckets:\n",
      "  akashghimireofficial\n"
     ]
    }
   ],
   "source": [
    "response = s3_client.list_buckets()\n",
    "print('Existing buckets:')\n",
    "for bucket in response['Buckets']:\n",
    "    print(f'  {bucket[\"Name\"]}')"
   ]
  },
  {
   "cell_type": "markdown",
   "metadata": {},
   "source": [
    "## Uploading File using S3 AWS service \n",
    "\n",
    "In order to upload file using s3 services we use `s3_client.upload_file()`\n",
    "\n",
    "**Parameters**\n",
    "- ``Filename``(**string**): Can be absolute or relative file path to be uploaded\n",
    "\n",
    "- ``Bucket``(**string**): Name of the Bucket where you want to upload the file. In above example we created a unique-bucket\n",
    "\n",
    "- ``Key``(**string**): The name you want to assign to the uploaded file in the bucket. It can as simple filename like 'filename.txt' or path like 'example_path/data/filename.txt'. The same key is used when retriving the file. "
   ]
  },
  {
   "cell_type": "code",
   "execution_count": null,
   "metadata": {},
   "outputs": [],
   "source": []
  },
  {
   "cell_type": "code",
   "execution_count": 7,
   "metadata": {},
   "outputs": [],
   "source": [
    "# Let us upload cars images \n",
    "img_filename='data/images/cars.png'\n",
    "img_key='images/cars.png'\n",
    "Bucket=bucket_name\n",
    "\n",
    "s3_client.upload_file(Filename=img_filename,\n",
    "                      Bucket=Bucket,\n",
    "                      Key=img_key)"
   ]
  },
  {
   "cell_type": "markdown",
   "metadata": {},
   "source": [
    "## Seeing what's in the Bucket (Verifying Uploaded Files)\n",
    "\n",
    "In order to see what is within the Bucket we can use the method:\n",
    " \n",
    "prefix = 'folder/subfolder/' <br>\n",
    "\n",
    "response = s3_client.``list_objects_v2(Bucket=bucket_name, Prefix=prefix)``\n",
    "\n"
   ]
  },
  {
   "cell_type": "code",
   "execution_count": 14,
   "metadata": {},
   "outputs": [],
   "source": [
    "response=s3_client.list_objects_v2(Bucket=Bucket,Prefix='images/') # we uploaded the file here"
   ]
  },
  {
   "cell_type": "code",
   "execution_count": 15,
   "metadata": {},
   "outputs": [
    {
     "data": {
      "text/plain": [
       "{'ResponseMetadata': {'RequestId': 'G9HQH2JBKWT4KG0Z',\n",
       "  'HostId': 'LM/d4xWu06Ek1dCMTwWdkexl+zSNXxz/POzv17lL2Jmre/rmHvmgvjXf8t3Pb2LutbJC6SqRW2U=',\n",
       "  'HTTPStatusCode': 200,\n",
       "  'HTTPHeaders': {'x-amz-id-2': 'LM/d4xWu06Ek1dCMTwWdkexl+zSNXxz/POzv17lL2Jmre/rmHvmgvjXf8t3Pb2LutbJC6SqRW2U=',\n",
       "   'x-amz-request-id': 'G9HQH2JBKWT4KG0Z',\n",
       "   'date': 'Sat, 13 Jul 2024 05:16:30 GMT',\n",
       "   'x-amz-bucket-region': 'ap-southeast-2',\n",
       "   'content-type': 'application/xml',\n",
       "   'transfer-encoding': 'chunked',\n",
       "   'server': 'AmazonS3'},\n",
       "  'RetryAttempts': 0},\n",
       " 'IsTruncated': False,\n",
       " 'Contents': [{'Key': 'images/cars.png',\n",
       "   'LastModified': datetime.datetime(2024, 7, 13, 5, 8, 7, tzinfo=tzutc()),\n",
       "   'ETag': '\"f690f4c51ecb0719848563f508c1408a\"',\n",
       "   'Size': 675682,\n",
       "   'StorageClass': 'STANDARD'}],\n",
       " 'Name': 'akashghimireofficial',\n",
       " 'Prefix': 'images/',\n",
       " 'MaxKeys': 1000,\n",
       " 'EncodingType': 'url',\n",
       " 'KeyCount': 1}"
      ]
     },
     "execution_count": 15,
     "metadata": {},
     "output_type": "execute_result"
    }
   ],
   "source": [
    "response"
   ]
  },
  {
   "cell_type": "code",
   "execution_count": 19,
   "metadata": {},
   "outputs": [
    {
     "data": {
      "text/plain": [
       "[{'Key': 'images/cars.png',\n",
       "  'LastModified': datetime.datetime(2024, 7, 13, 5, 8, 7, tzinfo=tzutc()),\n",
       "  'ETag': '\"f690f4c51ecb0719848563f508c1408a\"',\n",
       "  'Size': 675682,\n",
       "  'StorageClass': 'STANDARD'}]"
      ]
     },
     "execution_count": 19,
     "metadata": {},
     "output_type": "execute_result"
    }
   ],
   "source": [
    "response['Contents'] ## we cam see the object is already there "
   ]
  },
  {
   "cell_type": "markdown",
   "metadata": {},
   "source": [
    "## Downloading or Retriving the uploaded file \n",
    "\n",
    "For this we will use the method `s3_client.download_file()`\n",
    "\n",
    "**Parameters**\n",
    "\n",
    "- ``Bucket``(**string**): Name of the Bucket where you want to upload the file. In above example we created a unique-bucket\n",
    "\n",
    "- ``Key``(**string**): key file name you want to download. It is the `Key that you assign while uploading file` \n",
    "\n",
    "- ``Filename``(**string**): Name of the downloaded file. Can be a basename or full path. "
   ]
  },
  {
   "cell_type": "code",
   "execution_count": 24,
   "metadata": {},
   "outputs": [],
   "source": [
    "##downlaod the file now \n",
    "\n",
    "Key=img_key\n",
    "Bucket=bucket_name\n",
    "downloaded_folder=f'data/downloaded/{bucket_name}'\n",
    "\n",
    "if not os.path.exists(downloaded_folder):\n",
    "    os.makedirs(downloaded_folder)\n",
    "\n",
    "downloaded_filename=os.path.join(downloaded_folder,Key)\n",
    "\n",
    "s3_client.download_file(Bucket=Bucket,\n",
    "                        Key=Key,\n",
    "                        Filename='cars.png')"
   ]
  },
  {
   "cell_type": "code",
   "execution_count": 21,
   "metadata": {},
   "outputs": [
    {
     "data": {
      "text/plain": [
       "'data/downloaded/akashghimireofficial/images/cars.png'"
      ]
     },
     "execution_count": 21,
     "metadata": {},
     "output_type": "execute_result"
    }
   ],
   "source": [
    "downloaded_filename"
   ]
  },
  {
   "cell_type": "code",
   "execution_count": null,
   "metadata": {},
   "outputs": [],
   "source": []
  }
 ],
 "metadata": {
  "kernelspec": {
   "display_name": "aws",
   "language": "python",
   "name": "python3"
  },
  "language_info": {
   "codemirror_mode": {
    "name": "ipython",
    "version": 3
   },
   "file_extension": ".py",
   "mimetype": "text/x-python",
   "name": "python",
   "nbconvert_exporter": "python",
   "pygments_lexer": "ipython3",
   "version": "3.10.4"
  }
 },
 "nbformat": 4,
 "nbformat_minor": 2
}
